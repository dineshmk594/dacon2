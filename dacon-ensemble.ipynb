{
 "cells": [
  {
   "cell_type": "code",
   "execution_count": 1,
   "metadata": {},
   "outputs": [],
   "source": [
    "import numpy as np\n",
    "import pandas as pd\n",
    "import seaborn as sns"
   ]
  },
  {
   "cell_type": "code",
   "execution_count": 2,
   "metadata": {},
   "outputs": [],
   "source": [
    "df_complete=pd.read_csv('train.csv')"
   ]
  },
  {
   "cell_type": "code",
   "execution_count": 3,
   "metadata": {},
   "outputs": [
    {
     "data": {
      "text/plain": [
       "open      286\n",
       " close     15\n",
       "Name: OC, dtype: int64"
      ]
     },
     "execution_count": 3,
     "metadata": {},
     "output_type": "execute_result"
    }
   ],
   "source": [
    "df_complete['OC'].value_counts()"
   ]
  },
  {
   "cell_type": "code",
   "execution_count": 4,
   "metadata": {},
   "outputs": [
    {
     "data": {
      "text/html": [
       "<div>\n",
       "<style scoped>\n",
       "    .dataframe tbody tr th:only-of-type {\n",
       "        vertical-align: middle;\n",
       "    }\n",
       "\n",
       "    .dataframe tbody tr th {\n",
       "        vertical-align: top;\n",
       "    }\n",
       "\n",
       "    .dataframe thead th {\n",
       "        text-align: right;\n",
       "    }\n",
       "</style>\n",
       "<table border=\"1\" class=\"dataframe\">\n",
       "  <thead>\n",
       "    <tr style=\"text-align: right;\">\n",
       "      <th></th>\n",
       "      <th>inst_id</th>\n",
       "      <th>OC</th>\n",
       "      <th>sido</th>\n",
       "      <th>sgg</th>\n",
       "      <th>openDate</th>\n",
       "      <th>bedCount</th>\n",
       "      <th>instkind</th>\n",
       "      <th>revenue1</th>\n",
       "      <th>salescost1</th>\n",
       "      <th>sga1</th>\n",
       "      <th>...</th>\n",
       "      <th>debt2</th>\n",
       "      <th>liquidLiabilities2</th>\n",
       "      <th>shortLoan2</th>\n",
       "      <th>NCLiabilities2</th>\n",
       "      <th>longLoan2</th>\n",
       "      <th>netAsset2</th>\n",
       "      <th>surplus2</th>\n",
       "      <th>employee1</th>\n",
       "      <th>employee2</th>\n",
       "      <th>ownerChange</th>\n",
       "    </tr>\n",
       "  </thead>\n",
       "  <tbody>\n",
       "    <tr>\n",
       "      <th>35</th>\n",
       "      <td>58</td>\n",
       "      <td>close</td>\n",
       "      <td>gyeonggi</td>\n",
       "      <td>168</td>\n",
       "      <td>20130206</td>\n",
       "      <td>132.0</td>\n",
       "      <td>nursing_hospital</td>\n",
       "      <td>2.681766e+09</td>\n",
       "      <td>1.802009e+08</td>\n",
       "      <td>2.014580e+09</td>\n",
       "      <td>...</td>\n",
       "      <td>0.000000e+00</td>\n",
       "      <td>0.000000e+00</td>\n",
       "      <td>0.000000e+00</td>\n",
       "      <td>0.000000e+00</td>\n",
       "      <td>0.000000e+00</td>\n",
       "      <td>0.000000e+00</td>\n",
       "      <td>0.0</td>\n",
       "      <td>51.0</td>\n",
       "      <td>NaN</td>\n",
       "      <td>change</td>\n",
       "    </tr>\n",
       "    <tr>\n",
       "      <th>71</th>\n",
       "      <td>107</td>\n",
       "      <td>close</td>\n",
       "      <td>jeonbuk</td>\n",
       "      <td>26</td>\n",
       "      <td>19990805</td>\n",
       "      <td>NaN</td>\n",
       "      <td>traditional_hospital</td>\n",
       "      <td>4.131858e+09</td>\n",
       "      <td>1.436118e+08</td>\n",
       "      <td>3.529097e+09</td>\n",
       "      <td>...</td>\n",
       "      <td>2.658296e+09</td>\n",
       "      <td>2.632717e+09</td>\n",
       "      <td>2.442951e+09</td>\n",
       "      <td>2.557878e+07</td>\n",
       "      <td>0.000000e+00</td>\n",
       "      <td>2.487828e+09</td>\n",
       "      <td>0.0</td>\n",
       "      <td>85.0</td>\n",
       "      <td>74.0</td>\n",
       "      <td>same</td>\n",
       "    </tr>\n",
       "    <tr>\n",
       "      <th>93</th>\n",
       "      <td>140</td>\n",
       "      <td>close</td>\n",
       "      <td>gyeongbuk</td>\n",
       "      <td>114</td>\n",
       "      <td>20070420</td>\n",
       "      <td>203.0</td>\n",
       "      <td>hospital</td>\n",
       "      <td>5.423357e+09</td>\n",
       "      <td>0.000000e+00</td>\n",
       "      <td>5.212041e+09</td>\n",
       "      <td>...</td>\n",
       "      <td>2.733619e+09</td>\n",
       "      <td>1.406195e+08</td>\n",
       "      <td>0.000000e+00</td>\n",
       "      <td>2.590000e+09</td>\n",
       "      <td>2.590000e+09</td>\n",
       "      <td>3.752184e+09</td>\n",
       "      <td>0.0</td>\n",
       "      <td>NaN</td>\n",
       "      <td>NaN</td>\n",
       "      <td>NaN</td>\n",
       "    </tr>\n",
       "    <tr>\n",
       "      <th>111</th>\n",
       "      <td>164</td>\n",
       "      <td>close</td>\n",
       "      <td>jeonbuk</td>\n",
       "      <td>136</td>\n",
       "      <td>20050321</td>\n",
       "      <td>326.0</td>\n",
       "      <td>nursing_hospital</td>\n",
       "      <td>2.179021e+09</td>\n",
       "      <td>3.122066e+08</td>\n",
       "      <td>1.507567e+09</td>\n",
       "      <td>...</td>\n",
       "      <td>0.000000e+00</td>\n",
       "      <td>0.000000e+00</td>\n",
       "      <td>0.000000e+00</td>\n",
       "      <td>0.000000e+00</td>\n",
       "      <td>0.000000e+00</td>\n",
       "      <td>0.000000e+00</td>\n",
       "      <td>0.0</td>\n",
       "      <td>322.0</td>\n",
       "      <td>320.0</td>\n",
       "      <td>same</td>\n",
       "    </tr>\n",
       "    <tr>\n",
       "      <th>141</th>\n",
       "      <td>209</td>\n",
       "      <td>close</td>\n",
       "      <td>busan</td>\n",
       "      <td>63</td>\n",
       "      <td>19991112</td>\n",
       "      <td>151.0</td>\n",
       "      <td>hospital</td>\n",
       "      <td>8.845472e+09</td>\n",
       "      <td>0.000000e+00</td>\n",
       "      <td>7.958490e+09</td>\n",
       "      <td>...</td>\n",
       "      <td>1.495243e+10</td>\n",
       "      <td>1.001811e+10</td>\n",
       "      <td>6.250000e+09</td>\n",
       "      <td>4.934328e+09</td>\n",
       "      <td>4.922328e+09</td>\n",
       "      <td>2.500740e+08</td>\n",
       "      <td>0.0</td>\n",
       "      <td>110.0</td>\n",
       "      <td>110.0</td>\n",
       "      <td>same</td>\n",
       "    </tr>\n",
       "    <tr>\n",
       "      <th>158</th>\n",
       "      <td>238</td>\n",
       "      <td>close</td>\n",
       "      <td>jeonnam</td>\n",
       "      <td>19</td>\n",
       "      <td>20150316</td>\n",
       "      <td>119.0</td>\n",
       "      <td>hospital</td>\n",
       "      <td>3.581089e+09</td>\n",
       "      <td>5.106416e+08</td>\n",
       "      <td>2.848303e+09</td>\n",
       "      <td>...</td>\n",
       "      <td>5.376396e+09</td>\n",
       "      <td>2.031396e+09</td>\n",
       "      <td>2.986417e+08</td>\n",
       "      <td>3.350000e+09</td>\n",
       "      <td>3.350000e+09</td>\n",
       "      <td>4.221729e+09</td>\n",
       "      <td>0.0</td>\n",
       "      <td>64.0</td>\n",
       "      <td>77.0</td>\n",
       "      <td>change</td>\n",
       "    </tr>\n",
       "    <tr>\n",
       "      <th>177</th>\n",
       "      <td>265</td>\n",
       "      <td>close</td>\n",
       "      <td>jeonnam</td>\n",
       "      <td>53</td>\n",
       "      <td>20051111</td>\n",
       "      <td>652.0</td>\n",
       "      <td>nursing_hospital</td>\n",
       "      <td>1.683125e+10</td>\n",
       "      <td>2.372298e+09</td>\n",
       "      <td>1.234589e+10</td>\n",
       "      <td>...</td>\n",
       "      <td>1.430577e+10</td>\n",
       "      <td>1.682877e+09</td>\n",
       "      <td>2.521391e+06</td>\n",
       "      <td>1.262290e+10</td>\n",
       "      <td>7.366342e+09</td>\n",
       "      <td>1.606544e+10</td>\n",
       "      <td>0.0</td>\n",
       "      <td>342.0</td>\n",
       "      <td>278.0</td>\n",
       "      <td>change</td>\n",
       "    </tr>\n",
       "    <tr>\n",
       "      <th>193</th>\n",
       "      <td>281</td>\n",
       "      <td>close</td>\n",
       "      <td>gyeonggi</td>\n",
       "      <td>12</td>\n",
       "      <td>20121213</td>\n",
       "      <td>NaN</td>\n",
       "      <td>NaN</td>\n",
       "      <td>3.054388e+08</td>\n",
       "      <td>2.241614e+07</td>\n",
       "      <td>4.674753e+08</td>\n",
       "      <td>...</td>\n",
       "      <td>0.000000e+00</td>\n",
       "      <td>0.000000e+00</td>\n",
       "      <td>0.000000e+00</td>\n",
       "      <td>0.000000e+00</td>\n",
       "      <td>0.000000e+00</td>\n",
       "      <td>0.000000e+00</td>\n",
       "      <td>0.0</td>\n",
       "      <td>15.0</td>\n",
       "      <td>15.0</td>\n",
       "      <td>change</td>\n",
       "    </tr>\n",
       "    <tr>\n",
       "      <th>212</th>\n",
       "      <td>306</td>\n",
       "      <td>close</td>\n",
       "      <td>jeonnam</td>\n",
       "      <td>33</td>\n",
       "      <td>19990603</td>\n",
       "      <td>66.0</td>\n",
       "      <td>nursing_hospital</td>\n",
       "      <td>2.233031e+10</td>\n",
       "      <td>8.484657e+08</td>\n",
       "      <td>1.849255e+10</td>\n",
       "      <td>...</td>\n",
       "      <td>1.563217e+10</td>\n",
       "      <td>1.288180e+10</td>\n",
       "      <td>0.000000e+00</td>\n",
       "      <td>2.750371e+09</td>\n",
       "      <td>0.000000e+00</td>\n",
       "      <td>1.384958e+10</td>\n",
       "      <td>0.0</td>\n",
       "      <td>NaN</td>\n",
       "      <td>NaN</td>\n",
       "      <td>NaN</td>\n",
       "    </tr>\n",
       "    <tr>\n",
       "      <th>214</th>\n",
       "      <td>309</td>\n",
       "      <td>close</td>\n",
       "      <td>seoul</td>\n",
       "      <td>36</td>\n",
       "      <td>20141226</td>\n",
       "      <td>0.0</td>\n",
       "      <td>clinic</td>\n",
       "      <td>9.125255e+08</td>\n",
       "      <td>5.824151e+07</td>\n",
       "      <td>1.012169e+09</td>\n",
       "      <td>...</td>\n",
       "      <td>1.035994e+09</td>\n",
       "      <td>3.075474e+08</td>\n",
       "      <td>0.000000e+00</td>\n",
       "      <td>7.284463e+08</td>\n",
       "      <td>7.284463e+08</td>\n",
       "      <td>1.679837e+09</td>\n",
       "      <td>0.0</td>\n",
       "      <td>16.0</td>\n",
       "      <td>15.0</td>\n",
       "      <td>change</td>\n",
       "    </tr>\n",
       "    <tr>\n",
       "      <th>261</th>\n",
       "      <td>366</td>\n",
       "      <td>close</td>\n",
       "      <td>gyeonggi</td>\n",
       "      <td>98</td>\n",
       "      <td>20170120</td>\n",
       "      <td>0.0</td>\n",
       "      <td>traditional_clinic</td>\n",
       "      <td>7.162790e+09</td>\n",
       "      <td>8.758944e+08</td>\n",
       "      <td>5.387362e+09</td>\n",
       "      <td>...</td>\n",
       "      <td>0.000000e+00</td>\n",
       "      <td>0.000000e+00</td>\n",
       "      <td>0.000000e+00</td>\n",
       "      <td>0.000000e+00</td>\n",
       "      <td>0.000000e+00</td>\n",
       "      <td>0.000000e+00</td>\n",
       "      <td>0.0</td>\n",
       "      <td>79.0</td>\n",
       "      <td>70.0</td>\n",
       "      <td>same</td>\n",
       "    </tr>\n",
       "    <tr>\n",
       "      <th>290</th>\n",
       "      <td>414</td>\n",
       "      <td>close</td>\n",
       "      <td>gyeonggi</td>\n",
       "      <td>169</td>\n",
       "      <td>20140620</td>\n",
       "      <td>200.0</td>\n",
       "      <td>general_hospital</td>\n",
       "      <td>2.375764e+09</td>\n",
       "      <td>8.048178e+08</td>\n",
       "      <td>3.662180e+09</td>\n",
       "      <td>...</td>\n",
       "      <td>0.000000e+00</td>\n",
       "      <td>0.000000e+00</td>\n",
       "      <td>0.000000e+00</td>\n",
       "      <td>0.000000e+00</td>\n",
       "      <td>0.000000e+00</td>\n",
       "      <td>0.000000e+00</td>\n",
       "      <td>0.0</td>\n",
       "      <td>114.0</td>\n",
       "      <td>114.0</td>\n",
       "      <td>change</td>\n",
       "    </tr>\n",
       "    <tr>\n",
       "      <th>297</th>\n",
       "      <td>423</td>\n",
       "      <td>close</td>\n",
       "      <td>choongnam</td>\n",
       "      <td>159</td>\n",
       "      <td>20140618</td>\n",
       "      <td>NaN</td>\n",
       "      <td>hospital</td>\n",
       "      <td>6.717144e+09</td>\n",
       "      <td>8.200000e+09</td>\n",
       "      <td>0.000000e+00</td>\n",
       "      <td>...</td>\n",
       "      <td>0.000000e+00</td>\n",
       "      <td>0.000000e+00</td>\n",
       "      <td>0.000000e+00</td>\n",
       "      <td>0.000000e+00</td>\n",
       "      <td>0.000000e+00</td>\n",
       "      <td>0.000000e+00</td>\n",
       "      <td>0.0</td>\n",
       "      <td>79.0</td>\n",
       "      <td>79.0</td>\n",
       "      <td>same</td>\n",
       "    </tr>\n",
       "    <tr>\n",
       "      <th>298</th>\n",
       "      <td>426</td>\n",
       "      <td>close</td>\n",
       "      <td>gyeongbuk</td>\n",
       "      <td>107</td>\n",
       "      <td>19830705</td>\n",
       "      <td>NaN</td>\n",
       "      <td>hospital</td>\n",
       "      <td>0.000000e+00</td>\n",
       "      <td>0.000000e+00</td>\n",
       "      <td>5.479428e+07</td>\n",
       "      <td>...</td>\n",
       "      <td>6.370097e+09</td>\n",
       "      <td>2.170973e+09</td>\n",
       "      <td>0.000000e+00</td>\n",
       "      <td>4.199124e+09</td>\n",
       "      <td>2.498749e+09</td>\n",
       "      <td>3.259161e+09</td>\n",
       "      <td>0.0</td>\n",
       "      <td>NaN</td>\n",
       "      <td>NaN</td>\n",
       "      <td>NaN</td>\n",
       "    </tr>\n",
       "    <tr>\n",
       "      <th>299</th>\n",
       "      <td>427</td>\n",
       "      <td>close</td>\n",
       "      <td>gyeonggi</td>\n",
       "      <td>169</td>\n",
       "      <td>20070101</td>\n",
       "      <td>180.0</td>\n",
       "      <td>nursing_hospital</td>\n",
       "      <td>2.116892e+09</td>\n",
       "      <td>2.681748e+08</td>\n",
       "      <td>3.286245e+09</td>\n",
       "      <td>...</td>\n",
       "      <td>6.392336e+08</td>\n",
       "      <td>6.400000e+09</td>\n",
       "      <td>0.000000e+00</td>\n",
       "      <td>0.000000e+00</td>\n",
       "      <td>0.000000e+00</td>\n",
       "      <td>0.000000e+00</td>\n",
       "      <td>0.0</td>\n",
       "      <td>100.0</td>\n",
       "      <td>NaN</td>\n",
       "      <td>NaN</td>\n",
       "    </tr>\n",
       "  </tbody>\n",
       "</table>\n",
       "<p>15 rows × 58 columns</p>\n",
       "</div>"
      ],
      "text/plain": [
       "     inst_id      OC       sido  sgg  openDate  bedCount  \\\n",
       "35        58   close   gyeonggi  168  20130206     132.0   \n",
       "71       107   close    jeonbuk   26  19990805       NaN   \n",
       "93       140   close  gyeongbuk  114  20070420     203.0   \n",
       "111      164   close    jeonbuk  136  20050321     326.0   \n",
       "141      209   close      busan   63  19991112     151.0   \n",
       "158      238   close    jeonnam   19  20150316     119.0   \n",
       "177      265   close    jeonnam   53  20051111     652.0   \n",
       "193      281   close   gyeonggi   12  20121213       NaN   \n",
       "212      306   close    jeonnam   33  19990603      66.0   \n",
       "214      309   close      seoul   36  20141226       0.0   \n",
       "261      366   close   gyeonggi   98  20170120       0.0   \n",
       "290      414   close   gyeonggi  169  20140620     200.0   \n",
       "297      423   close  choongnam  159  20140618       NaN   \n",
       "298      426   close  gyeongbuk  107  19830705       NaN   \n",
       "299      427   close   gyeonggi  169  20070101     180.0   \n",
       "\n",
       "                 instkind      revenue1    salescost1          sga1  \\\n",
       "35       nursing_hospital  2.681766e+09  1.802009e+08  2.014580e+09   \n",
       "71   traditional_hospital  4.131858e+09  1.436118e+08  3.529097e+09   \n",
       "93               hospital  5.423357e+09  0.000000e+00  5.212041e+09   \n",
       "111      nursing_hospital  2.179021e+09  3.122066e+08  1.507567e+09   \n",
       "141              hospital  8.845472e+09  0.000000e+00  7.958490e+09   \n",
       "158              hospital  3.581089e+09  5.106416e+08  2.848303e+09   \n",
       "177      nursing_hospital  1.683125e+10  2.372298e+09  1.234589e+10   \n",
       "193                   NaN  3.054388e+08  2.241614e+07  4.674753e+08   \n",
       "212      nursing_hospital  2.233031e+10  8.484657e+08  1.849255e+10   \n",
       "214                clinic  9.125255e+08  5.824151e+07  1.012169e+09   \n",
       "261    traditional_clinic  7.162790e+09  8.758944e+08  5.387362e+09   \n",
       "290      general_hospital  2.375764e+09  8.048178e+08  3.662180e+09   \n",
       "297              hospital  6.717144e+09  8.200000e+09  0.000000e+00   \n",
       "298              hospital  0.000000e+00  0.000000e+00  5.479428e+07   \n",
       "299      nursing_hospital  2.116892e+09  2.681748e+08  3.286245e+09   \n",
       "\n",
       "        ...              debt2  liquidLiabilities2    shortLoan2  \\\n",
       "35      ...       0.000000e+00        0.000000e+00  0.000000e+00   \n",
       "71      ...       2.658296e+09        2.632717e+09  2.442951e+09   \n",
       "93      ...       2.733619e+09        1.406195e+08  0.000000e+00   \n",
       "111     ...       0.000000e+00        0.000000e+00  0.000000e+00   \n",
       "141     ...       1.495243e+10        1.001811e+10  6.250000e+09   \n",
       "158     ...       5.376396e+09        2.031396e+09  2.986417e+08   \n",
       "177     ...       1.430577e+10        1.682877e+09  2.521391e+06   \n",
       "193     ...       0.000000e+00        0.000000e+00  0.000000e+00   \n",
       "212     ...       1.563217e+10        1.288180e+10  0.000000e+00   \n",
       "214     ...       1.035994e+09        3.075474e+08  0.000000e+00   \n",
       "261     ...       0.000000e+00        0.000000e+00  0.000000e+00   \n",
       "290     ...       0.000000e+00        0.000000e+00  0.000000e+00   \n",
       "297     ...       0.000000e+00        0.000000e+00  0.000000e+00   \n",
       "298     ...       6.370097e+09        2.170973e+09  0.000000e+00   \n",
       "299     ...       6.392336e+08        6.400000e+09  0.000000e+00   \n",
       "\n",
       "     NCLiabilities2     longLoan2     netAsset2  surplus2  employee1  \\\n",
       "35     0.000000e+00  0.000000e+00  0.000000e+00       0.0       51.0   \n",
       "71     2.557878e+07  0.000000e+00  2.487828e+09       0.0       85.0   \n",
       "93     2.590000e+09  2.590000e+09  3.752184e+09       0.0        NaN   \n",
       "111    0.000000e+00  0.000000e+00  0.000000e+00       0.0      322.0   \n",
       "141    4.934328e+09  4.922328e+09  2.500740e+08       0.0      110.0   \n",
       "158    3.350000e+09  3.350000e+09  4.221729e+09       0.0       64.0   \n",
       "177    1.262290e+10  7.366342e+09  1.606544e+10       0.0      342.0   \n",
       "193    0.000000e+00  0.000000e+00  0.000000e+00       0.0       15.0   \n",
       "212    2.750371e+09  0.000000e+00  1.384958e+10       0.0        NaN   \n",
       "214    7.284463e+08  7.284463e+08  1.679837e+09       0.0       16.0   \n",
       "261    0.000000e+00  0.000000e+00  0.000000e+00       0.0       79.0   \n",
       "290    0.000000e+00  0.000000e+00  0.000000e+00       0.0      114.0   \n",
       "297    0.000000e+00  0.000000e+00  0.000000e+00       0.0       79.0   \n",
       "298    4.199124e+09  2.498749e+09  3.259161e+09       0.0        NaN   \n",
       "299    0.000000e+00  0.000000e+00  0.000000e+00       0.0      100.0   \n",
       "\n",
       "     employee2  ownerChange  \n",
       "35         NaN       change  \n",
       "71        74.0         same  \n",
       "93         NaN          NaN  \n",
       "111      320.0         same  \n",
       "141      110.0         same  \n",
       "158       77.0       change  \n",
       "177      278.0       change  \n",
       "193       15.0       change  \n",
       "212        NaN          NaN  \n",
       "214       15.0       change  \n",
       "261       70.0         same  \n",
       "290      114.0       change  \n",
       "297       79.0         same  \n",
       "298        NaN          NaN  \n",
       "299        NaN          NaN  \n",
       "\n",
       "[15 rows x 58 columns]"
      ]
     },
     "execution_count": 4,
     "metadata": {},
     "output_type": "execute_result"
    }
   ],
   "source": [
    "df_complete[df_complete['OC']==' close']"
   ]
  },
  {
   "cell_type": "code",
   "execution_count": 5,
   "metadata": {},
   "outputs": [],
   "source": [
    "df_complete['ownerChange']=df_complete['ownerChange'].fillna('?')\n",
    "df_complete['instkind']=df_complete['instkind'].fillna('?')"
   ]
  },
  {
   "cell_type": "code",
   "execution_count": 6,
   "metadata": {},
   "outputs": [],
   "source": [
    "from sklearn.preprocessing import LabelEncoder\n",
    "le = LabelEncoder()\n",
    "df_complete['sido_f'] = le.fit_transform(df_complete['sido'])\n",
    "df_complete['OC_f'] = le.fit_transform(df_complete['OC'])\n",
    "df_complete['ownerChange_f'] = le.fit_transform(df_complete['ownerChange'])\n",
    "df_complete['instkind_f'] = le.fit_transform(df_complete['instkind'])"
   ]
  },
  {
   "cell_type": "code",
   "execution_count": 8,
   "metadata": {},
   "outputs": [],
   "source": [
    "df_complete_emp=df_complete.drop(df_complete[df_complete['revenue1'].isna()==True].index)"
   ]
  },
  {
   "cell_type": "code",
   "execution_count": 9,
   "metadata": {},
   "outputs": [],
   "source": [
    "df_complete_emp['employee1']=df_complete_emp['employee1'].fillna(np.mean(df_complete_emp['employee1'])) "
   ]
  },
  {
   "cell_type": "code",
   "execution_count": 10,
   "metadata": {},
   "outputs": [],
   "source": [
    "df_complete_emp=df_complete_emp.drop('bedCount',axis=1)\n",
    "#df_complete_emp['bedCount']=df_complete_emp['bedCount'].fillna(np.mean(df_complete_emp['bedCount'] ),inplace=False ) "
   ]
  },
  {
   "cell_type": "code",
   "execution_count": 11,
   "metadata": {},
   "outputs": [],
   "source": [
    "df_complete_emp2=df_complete_emp[df_complete_emp['employee2'].isna()==False]\n",
    "df_complete_emp2_test=df_complete_emp[df_complete_emp['employee2'].isna()]"
   ]
  },
  {
   "cell_type": "code",
   "execution_count": 12,
   "metadata": {},
   "outputs": [],
   "source": [
    "from sklearn.linear_model import LinearRegression\n",
    "linreg = LinearRegression()"
   ]
  },
  {
   "cell_type": "code",
   "execution_count": 13,
   "metadata": {},
   "outputs": [
    {
     "data": {
      "text/html": [
       "<div>\n",
       "<style scoped>\n",
       "    .dataframe tbody tr th:only-of-type {\n",
       "        vertical-align: middle;\n",
       "    }\n",
       "\n",
       "    .dataframe tbody tr th {\n",
       "        vertical-align: top;\n",
       "    }\n",
       "\n",
       "    .dataframe thead th {\n",
       "        text-align: right;\n",
       "    }\n",
       "</style>\n",
       "<table border=\"1\" class=\"dataframe\">\n",
       "  <thead>\n",
       "    <tr style=\"text-align: right;\">\n",
       "      <th></th>\n",
       "      <th>inst_id</th>\n",
       "      <th>OC</th>\n",
       "      <th>sido</th>\n",
       "      <th>sgg</th>\n",
       "      <th>openDate</th>\n",
       "      <th>instkind</th>\n",
       "      <th>revenue1</th>\n",
       "      <th>salescost1</th>\n",
       "      <th>sga1</th>\n",
       "      <th>salary1</th>\n",
       "      <th>...</th>\n",
       "      <th>longLoan2</th>\n",
       "      <th>netAsset2</th>\n",
       "      <th>surplus2</th>\n",
       "      <th>employee1</th>\n",
       "      <th>employee2</th>\n",
       "      <th>ownerChange</th>\n",
       "      <th>sido_f</th>\n",
       "      <th>OC_f</th>\n",
       "      <th>ownerChange_f</th>\n",
       "      <th>instkind_f</th>\n",
       "    </tr>\n",
       "  </thead>\n",
       "  <tbody>\n",
       "    <tr>\n",
       "      <th>0</th>\n",
       "      <td>1</td>\n",
       "      <td>open</td>\n",
       "      <td>choongnam</td>\n",
       "      <td>73</td>\n",
       "      <td>20071228</td>\n",
       "      <td>nursing_hospital</td>\n",
       "      <td>4.217530e+09</td>\n",
       "      <td>0.000000e+00</td>\n",
       "      <td>3.961135e+09</td>\n",
       "      <td>2.033835e+09</td>\n",
       "      <td>...</td>\n",
       "      <td>3.900000e+08</td>\n",
       "      <td>2.619290e+09</td>\n",
       "      <td>1.271224e+09</td>\n",
       "      <td>62.0</td>\n",
       "      <td>64.0</td>\n",
       "      <td>same</td>\n",
       "      <td>2</td>\n",
       "      <td>1</td>\n",
       "      <td>2</td>\n",
       "      <td>5</td>\n",
       "    </tr>\n",
       "    <tr>\n",
       "      <th>2</th>\n",
       "      <td>4</td>\n",
       "      <td>open</td>\n",
       "      <td>gyeonggi</td>\n",
       "      <td>89</td>\n",
       "      <td>20161228</td>\n",
       "      <td>nursing_hospital</td>\n",
       "      <td>1.004522e+09</td>\n",
       "      <td>5.154837e+08</td>\n",
       "      <td>4.472197e+08</td>\n",
       "      <td>2.964023e+08</td>\n",
       "      <td>...</td>\n",
       "      <td>0.000000e+00</td>\n",
       "      <td>0.000000e+00</td>\n",
       "      <td>0.000000e+00</td>\n",
       "      <td>234.0</td>\n",
       "      <td>1.0</td>\n",
       "      <td>same</td>\n",
       "      <td>8</td>\n",
       "      <td>1</td>\n",
       "      <td>2</td>\n",
       "      <td>5</td>\n",
       "    </tr>\n",
       "    <tr>\n",
       "      <th>3</th>\n",
       "      <td>7</td>\n",
       "      <td>open</td>\n",
       "      <td>incheon</td>\n",
       "      <td>141</td>\n",
       "      <td>20000814</td>\n",
       "      <td>general_hospital</td>\n",
       "      <td>7.250734e+10</td>\n",
       "      <td>0.000000e+00</td>\n",
       "      <td>7.067740e+10</td>\n",
       "      <td>3.178605e+10</td>\n",
       "      <td>...</td>\n",
       "      <td>1.510000e+10</td>\n",
       "      <td>1.295427e+10</td>\n",
       "      <td>7.740829e+09</td>\n",
       "      <td>663.0</td>\n",
       "      <td>663.0</td>\n",
       "      <td>same</td>\n",
       "      <td>10</td>\n",
       "      <td>1</td>\n",
       "      <td>2</td>\n",
       "      <td>3</td>\n",
       "    </tr>\n",
       "    <tr>\n",
       "      <th>4</th>\n",
       "      <td>9</td>\n",
       "      <td>open</td>\n",
       "      <td>gyeongnam</td>\n",
       "      <td>32</td>\n",
       "      <td>20050901</td>\n",
       "      <td>general_hospital</td>\n",
       "      <td>4.904354e+10</td>\n",
       "      <td>0.000000e+00</td>\n",
       "      <td>4.765605e+10</td>\n",
       "      <td>2.446078e+10</td>\n",
       "      <td>...</td>\n",
       "      <td>1.410803e+10</td>\n",
       "      <td>5.561941e+06</td>\n",
       "      <td>9.025550e+09</td>\n",
       "      <td>206.0</td>\n",
       "      <td>197.0</td>\n",
       "      <td>same</td>\n",
       "      <td>9</td>\n",
       "      <td>1</td>\n",
       "      <td>2</td>\n",
       "      <td>3</td>\n",
       "    </tr>\n",
       "    <tr>\n",
       "      <th>5</th>\n",
       "      <td>11</td>\n",
       "      <td>open</td>\n",
       "      <td>gyeongnam</td>\n",
       "      <td>155</td>\n",
       "      <td>20020501</td>\n",
       "      <td>general_hospital</td>\n",
       "      <td>3.358054e+10</td>\n",
       "      <td>9.222997e+09</td>\n",
       "      <td>2.372791e+10</td>\n",
       "      <td>1.665533e+10</td>\n",
       "      <td>...</td>\n",
       "      <td>0.000000e+00</td>\n",
       "      <td>0.000000e+00</td>\n",
       "      <td>5.879004e+09</td>\n",
       "      <td>397.0</td>\n",
       "      <td>390.0</td>\n",
       "      <td>same</td>\n",
       "      <td>9</td>\n",
       "      <td>1</td>\n",
       "      <td>2</td>\n",
       "      <td>3</td>\n",
       "    </tr>\n",
       "  </tbody>\n",
       "</table>\n",
       "<p>5 rows × 61 columns</p>\n",
       "</div>"
      ],
      "text/plain": [
       "   inst_id    OC       sido  sgg  openDate          instkind      revenue1  \\\n",
       "0        1  open  choongnam   73  20071228  nursing_hospital  4.217530e+09   \n",
       "2        4  open   gyeonggi   89  20161228  nursing_hospital  1.004522e+09   \n",
       "3        7  open    incheon  141  20000814  general_hospital  7.250734e+10   \n",
       "4        9  open  gyeongnam   32  20050901  general_hospital  4.904354e+10   \n",
       "5       11  open  gyeongnam  155  20020501  general_hospital  3.358054e+10   \n",
       "\n",
       "     salescost1          sga1       salary1     ...         longLoan2  \\\n",
       "0  0.000000e+00  3.961135e+09  2.033835e+09     ...      3.900000e+08   \n",
       "2  5.154837e+08  4.472197e+08  2.964023e+08     ...      0.000000e+00   \n",
       "3  0.000000e+00  7.067740e+10  3.178605e+10     ...      1.510000e+10   \n",
       "4  0.000000e+00  4.765605e+10  2.446078e+10     ...      1.410803e+10   \n",
       "5  9.222997e+09  2.372791e+10  1.665533e+10     ...      0.000000e+00   \n",
       "\n",
       "      netAsset2      surplus2  employee1  employee2  ownerChange  sido_f  \\\n",
       "0  2.619290e+09  1.271224e+09       62.0       64.0         same       2   \n",
       "2  0.000000e+00  0.000000e+00      234.0        1.0         same       8   \n",
       "3  1.295427e+10  7.740829e+09      663.0      663.0         same      10   \n",
       "4  5.561941e+06  9.025550e+09      206.0      197.0         same       9   \n",
       "5  0.000000e+00  5.879004e+09      397.0      390.0         same       9   \n",
       "\n",
       "   OC_f  ownerChange_f  instkind_f  \n",
       "0     1              2           5  \n",
       "2     1              2           5  \n",
       "3     1              2           3  \n",
       "4     1              2           3  \n",
       "5     1              2           3  \n",
       "\n",
       "[5 rows x 61 columns]"
      ]
     },
     "execution_count": 13,
     "metadata": {},
     "output_type": "execute_result"
    }
   ],
   "source": [
    "df_complete_emp2.head()"
   ]
  },
  {
   "cell_type": "code",
   "execution_count": null,
   "metadata": {},
   "outputs": [],
   "source": []
  },
  {
   "cell_type": "code",
   "execution_count": 14,
   "metadata": {},
   "outputs": [],
   "source": [
    "x = df_complete_emp2.drop(['openDate','inst_id','OC','sido','ownerChange','instkind','OC_f','employee2'],axis=1)\n",
    "y = df_complete_emp2[['employee2']]"
   ]
  },
  {
   "cell_type": "code",
   "execution_count": 15,
   "metadata": {},
   "outputs": [],
   "source": [
    "dt_model_emp2=linreg.fit(x, y)"
   ]
  },
  {
   "cell_type": "code",
   "execution_count": 16,
   "metadata": {},
   "outputs": [],
   "source": [
    "x_test = df_complete_emp2_test.drop(['openDate','inst_id','OC','sido','ownerChange','instkind','OC_f','employee2'],axis=1)"
   ]
  },
  {
   "cell_type": "code",
   "execution_count": 17,
   "metadata": {},
   "outputs": [],
   "source": [
    "a=np.round(dt_model_emp2.predict(x_test))"
   ]
  },
  {
   "cell_type": "code",
   "execution_count": 18,
   "metadata": {},
   "outputs": [],
   "source": [
    "a[10]=130."
   ]
  },
  {
   "cell_type": "code",
   "execution_count": 19,
   "metadata": {},
   "outputs": [
    {
     "name": "stderr",
     "output_type": "stream",
     "text": [
      "C:\\Users\\DINESHKUMAR\\Anaconda3\\lib\\site-packages\\ipykernel_launcher.py:1: SettingWithCopyWarning: \n",
      "A value is trying to be set on a copy of a slice from a DataFrame.\n",
      "Try using .loc[row_indexer,col_indexer] = value instead\n",
      "\n",
      "See the caveats in the documentation: http://pandas.pydata.org/pandas-docs/stable/indexing.html#indexing-view-versus-copy\n",
      "  \"\"\"Entry point for launching an IPython kernel.\n"
     ]
    }
   ],
   "source": [
    "df_complete_emp2_test['employee2']=a"
   ]
  },
  {
   "cell_type": "code",
   "execution_count": 20,
   "metadata": {},
   "outputs": [
    {
     "name": "stdout",
     "output_type": "stream",
     "text": [
      "(282, 61)\n"
     ]
    },
    {
     "data": {
      "text/plain": [
       "(11, 61)"
      ]
     },
     "execution_count": 20,
     "metadata": {},
     "output_type": "execute_result"
    }
   ],
   "source": [
    "print(df_complete_emp2.shape)\n",
    "\n",
    "df_complete_emp2_test.shape"
   ]
  },
  {
   "cell_type": "code",
   "execution_count": 21,
   "metadata": {},
   "outputs": [],
   "source": [
    "df_complete_emp=pd.concat([df_complete_emp2,df_complete_emp2_test])"
   ]
  },
  {
   "cell_type": "code",
   "execution_count": 22,
   "metadata": {},
   "outputs": [],
   "source": [
    "df_complete_emp['employee1']=df_complete['employee1']"
   ]
  },
  {
   "cell_type": "code",
   "execution_count": 23,
   "metadata": {},
   "outputs": [],
   "source": [
    "df_complete_emp1=df_complete_emp[df_complete_emp['employee1'].isna()==False]\n",
    "df_complete_emp1_test=df_complete_emp[df_complete_emp['employee1'].isna()]"
   ]
  },
  {
   "cell_type": "code",
   "execution_count": 58,
   "metadata": {},
   "outputs": [],
   "source": [
    "x = df_complete_emp1.drop(['openDate','inst_id','OC','sido','ownerChange','instkind','OC_f','employee1'],axis=1)\n",
    "y = df_complete_emp1[['employee1']]"
   ]
  },
  {
   "cell_type": "code",
   "execution_count": 25,
   "metadata": {},
   "outputs": [],
   "source": [
    "dt_model_emp1=linreg.fit(x, y)"
   ]
  },
  {
   "cell_type": "code",
   "execution_count": 26,
   "metadata": {},
   "outputs": [],
   "source": [
    "x_test = df_complete_emp1_test.drop(['openDate','inst_id','OC','sido','ownerChange','instkind','OC_f','employee1'],axis=1)"
   ]
  },
  {
   "cell_type": "code",
   "execution_count": 27,
   "metadata": {},
   "outputs": [],
   "source": [
    "b=np.round(dt_model_emp1.predict(x_test))"
   ]
  },
  {
   "cell_type": "code",
   "execution_count": 28,
   "metadata": {},
   "outputs": [
    {
     "name": "stderr",
     "output_type": "stream",
     "text": [
      "C:\\Users\\DINESHKUMAR\\Anaconda3\\lib\\site-packages\\ipykernel_launcher.py:1: SettingWithCopyWarning: \n",
      "A value is trying to be set on a copy of a slice from a DataFrame.\n",
      "Try using .loc[row_indexer,col_indexer] = value instead\n",
      "\n",
      "See the caveats in the documentation: http://pandas.pydata.org/pandas-docs/stable/indexing.html#indexing-view-versus-copy\n",
      "  \"\"\"Entry point for launching an IPython kernel.\n"
     ]
    }
   ],
   "source": [
    "df_complete_emp1_test['employee1']=b"
   ]
  },
  {
   "cell_type": "code",
   "execution_count": 29,
   "metadata": {},
   "outputs": [],
   "source": [
    "df_complete_emp=pd.concat([df_complete_emp1,df_complete_emp1_test])"
   ]
  },
  {
   "cell_type": "code",
   "execution_count": 289,
   "metadata": {},
   "outputs": [],
   "source": [
    "x=df_complete_emp.drop(['openDate','inst_id','OC','sido','ownerChange','instkind','OC_f','ownerChange_f'],axis=1)\n",
    "y=df_complete_emp[['OC_f']]"
   ]
  },
  {
   "cell_type": "code",
   "execution_count": 291,
   "metadata": {},
   "outputs": [
    {
     "name": "stdout",
     "output_type": "stream",
     "text": [
      "Accuracy: 0.92 (+/- 0.02)[DT]\n",
      "Accuracy: 0.95 (+/- 0.02)[Bagging]\n"
     ]
    }
   ],
   "source": [
    "import warnings\n",
    "warnings.filterwarnings('ignore')\n",
    "from sklearn.tree import DecisionTreeClassifier\n",
    "from sklearn.ensemble import BaggingClassifier\n",
    "from sklearn.ensemble import RandomForestClassifier\n",
    "from sklearn.linear_model import LogisticRegression\n",
    "from sklearn.model_selection import train_test_split,cross_val_score\n",
    "#base_estimator= RandomForestClassifier(n_estimators=10,min_samples_split=2)\n",
    "#base_estimator=LogisticRegression()\n",
    "bg_cl = BaggingClassifier(base_estimator=dt_model,n_estimators=25)\n",
    "model = bg_cl.fit(x,y)\n",
    "for model, label in zip([base_estimator,bg_cl],['DT','Bagging']):\n",
    "    scores = cross_val_score(model,x,y,cv=10,scoring='accuracy')\n",
    "    print(\"Accuracy: %0.2f (+/- %0.2f)[%s]\"  %(scores.mean(),scores.std(),label))\n"
   ]
  },
  {
   "cell_type": "code",
   "execution_count": 290,
   "metadata": {},
   "outputs": [
    {
     "data": {
      "text/plain": [
       "0.9488054607508533"
      ]
     },
     "execution_count": 290,
     "metadata": {},
     "output_type": "execute_result"
    }
   ],
   "source": [
    "from sklearn.tree import DecisionTreeClassifier\n",
    "dt_model = DecisionTreeClassifier(criterion = 'gini',max_depth=3,max_features=30,min_samples_leaf=5)\n",
    "dt_model.fit(x,y)\n",
    "dt_model.score(x,y)"
   ]
  },
  {
   "cell_type": "code",
   "execution_count": 287,
   "metadata": {},
   "outputs": [
    {
     "data": {
      "text/plain": [
       "0.9863481228668942"
      ]
     },
     "execution_count": 287,
     "metadata": {},
     "output_type": "execute_result"
    }
   ],
   "source": [
    "from sklearn.ensemble import RandomForestClassifier\n",
    "dt_model = RandomForestClassifier(n_estimators = 5,min_samples_split=2)\n",
    "dt_model.fit(x, y)\n",
    "dt_model.score(x, y)"
   ]
  },
  {
   "cell_type": "code",
   "execution_count": 292,
   "metadata": {},
   "outputs": [],
   "source": [
    "def get_predictions( inst_id, model ):\n",
    "    y_pred_df = pd.DataFrame( { 'inst_id': inst_id,\n",
    "                               \"OC\": model.predict(x) } )\n",
    "    return y_pred_df"
   ]
  },
  {
   "cell_type": "code",
   "execution_count": 293,
   "metadata": {},
   "outputs": [],
   "source": [
    "df_test=pd.read_csv('test.csv')"
   ]
  },
  {
   "cell_type": "code",
   "execution_count": 294,
   "metadata": {},
   "outputs": [],
   "source": [
    "df_complete=df_test.drop('bedCount',axis=1)"
   ]
  },
  {
   "cell_type": "code",
   "execution_count": 295,
   "metadata": {},
   "outputs": [],
   "source": [
    "df_complete['ownerChange']=df_complete['ownerChange'].fillna('?')\n",
    "df_complete['instkind']=df_complete['instkind'].fillna('?')\n",
    "df_complete['sido_f'] = le.fit_transform(df_complete['sido'])\n",
    "df_complete['OC_f'] = le.fit_transform(df_complete['OC'])\n",
    "df_complete['ownerChange_f'] = le.fit_transform(df_complete['ownerChange'])\n",
    "df_complete['instkind_f'] = le.fit_transform(df_complete['instkind'])\n",
    "df_complete=df_complete.drop(df_complete[df_complete['revenue1'].isna()==True].index)"
   ]
  },
  {
   "cell_type": "code",
   "execution_count": 296,
   "metadata": {},
   "outputs": [],
   "source": [
    "df_complete['employee1']=df_complete['employee1'].fillna(np.mean(df_complete['employee1'])) \n",
    "df_complete['employee2']=df_complete['employee2'].fillna(np.mean(df_complete['employee2'])) "
   ]
  },
  {
   "cell_type": "code",
   "execution_count": 297,
   "metadata": {},
   "outputs": [],
   "source": [
    "x=df_complete.drop(['openDate','inst_id','OC','sido','ownerChange','instkind','OC_f','ownerChange_f'],axis=1)\n",
    "y=df_complete[['OC_f']]"
   ]
  },
  {
   "cell_type": "code",
   "execution_count": 298,
   "metadata": {},
   "outputs": [
    {
     "data": {
      "text/plain": [
       "(125, 53)"
      ]
     },
     "execution_count": 298,
     "metadata": {},
     "output_type": "execute_result"
    }
   ],
   "source": [
    "x.shape"
   ]
  },
  {
   "cell_type": "code",
   "execution_count": 299,
   "metadata": {},
   "outputs": [],
   "source": [
    "y_pred_df = get_predictions( df_complete['inst_id'], dt_model)"
   ]
  },
  {
   "cell_type": "code",
   "execution_count": 300,
   "metadata": {
    "scrolled": true
   },
   "outputs": [
    {
     "data": {
      "text/html": [
       "<div>\n",
       "<style scoped>\n",
       "    .dataframe tbody tr th:only-of-type {\n",
       "        vertical-align: middle;\n",
       "    }\n",
       "\n",
       "    .dataframe tbody tr th {\n",
       "        vertical-align: top;\n",
       "    }\n",
       "\n",
       "    .dataframe thead th {\n",
       "        text-align: right;\n",
       "    }\n",
       "</style>\n",
       "<table border=\"1\" class=\"dataframe\">\n",
       "  <thead>\n",
       "    <tr style=\"text-align: right;\">\n",
       "      <th></th>\n",
       "      <th>inst_id</th>\n",
       "      <th>OC</th>\n",
       "    </tr>\n",
       "  </thead>\n",
       "  <tbody>\n",
       "    <tr>\n",
       "      <th>0</th>\n",
       "      <td>2</td>\n",
       "      <td>1</td>\n",
       "    </tr>\n",
       "    <tr>\n",
       "      <th>1</th>\n",
       "      <td>5</td>\n",
       "      <td>1</td>\n",
       "    </tr>\n",
       "    <tr>\n",
       "      <th>2</th>\n",
       "      <td>6</td>\n",
       "      <td>1</td>\n",
       "    </tr>\n",
       "    <tr>\n",
       "      <th>3</th>\n",
       "      <td>8</td>\n",
       "      <td>1</td>\n",
       "    </tr>\n",
       "    <tr>\n",
       "      <th>4</th>\n",
       "      <td>10</td>\n",
       "      <td>1</td>\n",
       "    </tr>\n",
       "  </tbody>\n",
       "</table>\n",
       "</div>"
      ],
      "text/plain": [
       "   inst_id  OC\n",
       "0        2   1\n",
       "1        5   1\n",
       "2        6   1\n",
       "3        8   1\n",
       "4       10   1"
      ]
     },
     "execution_count": 300,
     "metadata": {},
     "output_type": "execute_result"
    }
   ],
   "source": [
    "y_pred_df.head()"
   ]
  },
  {
   "cell_type": "code",
   "execution_count": 281,
   "metadata": {},
   "outputs": [],
   "source": [
    "y_pred_df.to_csv('pred.csv')"
   ]
  },
  {
   "cell_type": "code",
   "execution_count": 301,
   "metadata": {},
   "outputs": [
    {
     "data": {
      "text/plain": [
       "1    121\n",
       "0      4\n",
       "Name: OC, dtype: int64"
      ]
     },
     "execution_count": 301,
     "metadata": {},
     "output_type": "execute_result"
    }
   ],
   "source": [
    "y_pred_df['OC'].value_counts()"
   ]
  },
  {
   "cell_type": "code",
   "execution_count": 302,
   "metadata": {},
   "outputs": [
    {
     "data": {
      "text/html": [
       "<div>\n",
       "<style scoped>\n",
       "    .dataframe tbody tr th:only-of-type {\n",
       "        vertical-align: middle;\n",
       "    }\n",
       "\n",
       "    .dataframe tbody tr th {\n",
       "        vertical-align: top;\n",
       "    }\n",
       "\n",
       "    .dataframe thead th {\n",
       "        text-align: right;\n",
       "    }\n",
       "</style>\n",
       "<table border=\"1\" class=\"dataframe\">\n",
       "  <thead>\n",
       "    <tr style=\"text-align: right;\">\n",
       "      <th></th>\n",
       "      <th>inst_id</th>\n",
       "      <th>OC</th>\n",
       "    </tr>\n",
       "  </thead>\n",
       "  <tbody>\n",
       "    <tr>\n",
       "      <th>13</th>\n",
       "      <td>30</td>\n",
       "      <td>0</td>\n",
       "    </tr>\n",
       "    <tr>\n",
       "      <th>88</th>\n",
       "      <td>293</td>\n",
       "      <td>0</td>\n",
       "    </tr>\n",
       "    <tr>\n",
       "      <th>124</th>\n",
       "      <td>429</td>\n",
       "      <td>0</td>\n",
       "    </tr>\n",
       "    <tr>\n",
       "      <th>126</th>\n",
       "      <td>431</td>\n",
       "      <td>0</td>\n",
       "    </tr>\n",
       "  </tbody>\n",
       "</table>\n",
       "</div>"
      ],
      "text/plain": [
       "     inst_id  OC\n",
       "13        30   0\n",
       "88       293   0\n",
       "124      429   0\n",
       "126      431   0"
      ]
     },
     "execution_count": 302,
     "metadata": {},
     "output_type": "execute_result"
    }
   ],
   "source": [
    "y_pred_df[y_pred_df['OC']==0]"
   ]
  },
  {
   "cell_type": "code",
   "execution_count": 233,
   "metadata": {},
   "outputs": [
    {
     "data": {
      "text/html": [
       "<div>\n",
       "<style scoped>\n",
       "    .dataframe tbody tr th:only-of-type {\n",
       "        vertical-align: middle;\n",
       "    }\n",
       "\n",
       "    .dataframe tbody tr th {\n",
       "        vertical-align: top;\n",
       "    }\n",
       "\n",
       "    .dataframe thead th {\n",
       "        text-align: right;\n",
       "    }\n",
       "</style>\n",
       "<table border=\"1\" class=\"dataframe\">\n",
       "  <thead>\n",
       "    <tr style=\"text-align: right;\">\n",
       "      <th></th>\n",
       "      <th>inst_id</th>\n",
       "      <th>OC</th>\n",
       "    </tr>\n",
       "  </thead>\n",
       "  <tbody>\n",
       "    <tr>\n",
       "      <th>20</th>\n",
       "      <td>48</td>\n",
       "      <td>0</td>\n",
       "    </tr>\n",
       "    <tr>\n",
       "      <th>52</th>\n",
       "      <td>165</td>\n",
       "      <td>0</td>\n",
       "    </tr>\n",
       "    <tr>\n",
       "      <th>58</th>\n",
       "      <td>185</td>\n",
       "      <td>0</td>\n",
       "    </tr>\n",
       "    <tr>\n",
       "      <th>120</th>\n",
       "      <td>413</td>\n",
       "      <td>0</td>\n",
       "    </tr>\n",
       "    <tr>\n",
       "      <th>122</th>\n",
       "      <td>424</td>\n",
       "      <td>0</td>\n",
       "    </tr>\n",
       "  </tbody>\n",
       "</table>\n",
       "</div>"
      ],
      "text/plain": [
       "     inst_id  OC\n",
       "20        48   0\n",
       "52       165   0\n",
       "58       185   0\n",
       "120      413   0\n",
       "122      424   0"
      ]
     },
     "execution_count": 233,
     "metadata": {},
     "output_type": "execute_result"
    }
   ],
   "source": [
    "y_pred_df[y_pred_df['OC']==0]"
   ]
  },
  {
   "cell_type": "code",
   "execution_count": null,
   "metadata": {},
   "outputs": [],
   "source": [
    "6\n",
    "64\n",
    "310\n",
    "413\n",
    "424\n",
    "430\n"
   ]
  },
  {
   "cell_type": "code",
   "execution_count": null,
   "metadata": {},
   "outputs": [],
   "source": []
  }
 ],
 "metadata": {
  "kernelspec": {
   "display_name": "Python 3",
   "language": "python",
   "name": "python3"
  },
  "language_info": {
   "codemirror_mode": {
    "name": "ipython",
    "version": 3
   },
   "file_extension": ".py",
   "mimetype": "text/x-python",
   "name": "python",
   "nbconvert_exporter": "python",
   "pygments_lexer": "ipython3",
   "version": "3.6.5"
  }
 },
 "nbformat": 4,
 "nbformat_minor": 2
}
